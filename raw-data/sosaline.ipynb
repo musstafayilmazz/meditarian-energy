{
 "cells": [
  {
   "cell_type": "code",
   "execution_count": 1,
   "id": "bcdc22a4",
   "metadata": {},
   "outputs": [],
   "source": [
    "import pandas as pd"
   ]
  },
  {
   "cell_type": "code",
   "execution_count": 17,
   "id": "a8051bd0",
   "metadata": {},
   "outputs": [],
   "source": [
    "import csv\n",
    "\n",
    "# Metin dosyasını oku ve verileri bir liste olarak depola\n",
    "with open('sea_depth-salt/sossheig.txt', 'r') as f:\n",
    "    data = [line.strip().split('\\t') for line in f.readlines()]"
   ]
  },
  {
   "cell_type": "code",
   "execution_count": 18,
   "id": "e1298673",
   "metadata": {},
   "outputs": [],
   "source": [
    "with open('t.csv', 'w', newline='') as f:\n",
    "    writer = csv.writer(f)\n",
    "    writer.writerows(data)"
   ]
  },
  {
   "cell_type": "code",
   "execution_count": 19,
   "id": "fbf31606",
   "metadata": {},
   "outputs": [],
   "source": [
    "sosaline = pd.read_csv(\"t.csv\")"
   ]
  },
  {
   "cell_type": "code",
   "execution_count": 20,
   "id": "9ba7c03b",
   "metadata": {},
   "outputs": [
    {
     "data": {
      "text/html": [
       "<div>\n",
       "<style scoped>\n",
       "    .dataframe tbody tr th:only-of-type {\n",
       "        vertical-align: middle;\n",
       "    }\n",
       "\n",
       "    .dataframe tbody tr th {\n",
       "        vertical-align: top;\n",
       "    }\n",
       "\n",
       "    .dataframe thead th {\n",
       "        text-align: right;\n",
       "    }\n",
       "</style>\n",
       "<table border=\"1\" class=\"dataframe\">\n",
       "  <thead>\n",
       "    <tr style=\"text-align: right;\">\n",
       "      <th></th>\n",
       "      <th>time_counter</th>\n",
       "      <th>y</th>\n",
       "      <th>x</th>\n",
       "      <th>sossheig</th>\n",
       "    </tr>\n",
       "  </thead>\n",
       "  <tbody>\n",
       "    <tr>\n",
       "      <th>0</th>\n",
       "      <td>6436800.0</td>\n",
       "      <td>\"1 of 1021\"</td>\n",
       "      <td>\"1 of 1442\"</td>\n",
       "      <td>NaN</td>\n",
       "    </tr>\n",
       "    <tr>\n",
       "      <th>1</th>\n",
       "      <td>6436800.0</td>\n",
       "      <td>\"1 of 1021\"</td>\n",
       "      <td>\"2 of 1442\"</td>\n",
       "      <td>NaN</td>\n",
       "    </tr>\n",
       "    <tr>\n",
       "      <th>2</th>\n",
       "      <td>6436800.0</td>\n",
       "      <td>\"1 of 1021\"</td>\n",
       "      <td>\"3 of 1442\"</td>\n",
       "      <td>NaN</td>\n",
       "    </tr>\n",
       "    <tr>\n",
       "      <th>3</th>\n",
       "      <td>6436800.0</td>\n",
       "      <td>\"1 of 1021\"</td>\n",
       "      <td>\"4 of 1442\"</td>\n",
       "      <td>NaN</td>\n",
       "    </tr>\n",
       "    <tr>\n",
       "      <th>4</th>\n",
       "      <td>6436800.0</td>\n",
       "      <td>\"1 of 1021\"</td>\n",
       "      <td>\"5 of 1442\"</td>\n",
       "      <td>NaN</td>\n",
       "    </tr>\n",
       "  </tbody>\n",
       "</table>\n",
       "</div>"
      ],
      "text/plain": [
       "   time_counter            y            x  sossheig\n",
       "0     6436800.0  \"1 of 1021\"  \"1 of 1442\"       NaN\n",
       "1     6436800.0  \"1 of 1021\"  \"2 of 1442\"       NaN\n",
       "2     6436800.0  \"1 of 1021\"  \"3 of 1442\"       NaN\n",
       "3     6436800.0  \"1 of 1021\"  \"4 of 1442\"       NaN\n",
       "4     6436800.0  \"1 of 1021\"  \"5 of 1442\"       NaN"
      ]
     },
     "execution_count": 20,
     "metadata": {},
     "output_type": "execute_result"
    }
   ],
   "source": [
    "sosaline.head()"
   ]
  },
  {
   "cell_type": "code",
   "execution_count": 21,
   "id": "f9779d2a",
   "metadata": {},
   "outputs": [],
   "source": [
    "with open('sea_depth-salt/nav_lat.txt', 'r') as f:\n",
    "    data = [line.strip().split('\\t') for line in f.readlines()]\n",
    "with open('t.csv', 'w', newline='') as f:\n",
    "    writer = csv.writer(f)\n",
    "    writer.writerows(data)\n",
    "lat = pd.read_csv(\"t.csv\")"
   ]
  },
  {
   "cell_type": "code",
   "execution_count": 22,
   "id": "ac41647b",
   "metadata": {},
   "outputs": [],
   "source": [
    "with open('sea_depth-salt/nav_lon.txt', 'r') as f:\n",
    "    data = [line.strip().split('\\t') for line in f.readlines()]\n",
    "with open('t.csv', 'w', newline='') as f:\n",
    "    writer = csv.writer(f)\n",
    "    writer.writerows(data)\n",
    "lon = pd.read_csv(\"t.csv\")"
   ]
  },
  {
   "cell_type": "code",
   "execution_count": 23,
   "id": "578a9c24",
   "metadata": {},
   "outputs": [
    {
     "data": {
      "text/html": [
       "<div>\n",
       "<style scoped>\n",
       "    .dataframe tbody tr th:only-of-type {\n",
       "        vertical-align: middle;\n",
       "    }\n",
       "\n",
       "    .dataframe tbody tr th {\n",
       "        vertical-align: top;\n",
       "    }\n",
       "\n",
       "    .dataframe thead th {\n",
       "        text-align: right;\n",
       "    }\n",
       "</style>\n",
       "<table border=\"1\" class=\"dataframe\">\n",
       "  <thead>\n",
       "    <tr style=\"text-align: right;\">\n",
       "      <th></th>\n",
       "      <th>y</th>\n",
       "      <th>x</th>\n",
       "      <th>nav_lat</th>\n",
       "    </tr>\n",
       "  </thead>\n",
       "  <tbody>\n",
       "    <tr>\n",
       "      <th>0</th>\n",
       "      <td>\"1 of 1021\"</td>\n",
       "      <td>\"1 of 1442\"</td>\n",
       "      <td>-77.010475</td>\n",
       "    </tr>\n",
       "    <tr>\n",
       "      <th>1</th>\n",
       "      <td>\"1 of 1021\"</td>\n",
       "      <td>\"2 of 1442\"</td>\n",
       "      <td>-77.010475</td>\n",
       "    </tr>\n",
       "    <tr>\n",
       "      <th>2</th>\n",
       "      <td>\"1 of 1021\"</td>\n",
       "      <td>\"3 of 1442\"</td>\n",
       "      <td>-77.010475</td>\n",
       "    </tr>\n",
       "    <tr>\n",
       "      <th>3</th>\n",
       "      <td>\"1 of 1021\"</td>\n",
       "      <td>\"4 of 1442\"</td>\n",
       "      <td>-77.010475</td>\n",
       "    </tr>\n",
       "    <tr>\n",
       "      <th>4</th>\n",
       "      <td>\"1 of 1021\"</td>\n",
       "      <td>\"5 of 1442\"</td>\n",
       "      <td>-77.010475</td>\n",
       "    </tr>\n",
       "  </tbody>\n",
       "</table>\n",
       "</div>"
      ],
      "text/plain": [
       "             y            x    nav_lat\n",
       "0  \"1 of 1021\"  \"1 of 1442\" -77.010475\n",
       "1  \"1 of 1021\"  \"2 of 1442\" -77.010475\n",
       "2  \"1 of 1021\"  \"3 of 1442\" -77.010475\n",
       "3  \"1 of 1021\"  \"4 of 1442\" -77.010475\n",
       "4  \"1 of 1021\"  \"5 of 1442\" -77.010475"
      ]
     },
     "execution_count": 23,
     "metadata": {},
     "output_type": "execute_result"
    }
   ],
   "source": [
    "lat.head()"
   ]
  },
  {
   "cell_type": "code",
   "execution_count": 24,
   "id": "6a28d37b",
   "metadata": {},
   "outputs": [
    {
     "data": {
      "text/html": [
       "<div>\n",
       "<style scoped>\n",
       "    .dataframe tbody tr th:only-of-type {\n",
       "        vertical-align: middle;\n",
       "    }\n",
       "\n",
       "    .dataframe tbody tr th {\n",
       "        vertical-align: top;\n",
       "    }\n",
       "\n",
       "    .dataframe thead th {\n",
       "        text-align: right;\n",
       "    }\n",
       "</style>\n",
       "<table border=\"1\" class=\"dataframe\">\n",
       "  <thead>\n",
       "    <tr style=\"text-align: right;\">\n",
       "      <th></th>\n",
       "      <th>y</th>\n",
       "      <th>x</th>\n",
       "      <th>nav_lon</th>\n",
       "    </tr>\n",
       "  </thead>\n",
       "  <tbody>\n",
       "    <tr>\n",
       "      <th>0</th>\n",
       "      <td>\"1 of 1021\"</td>\n",
       "      <td>\"1 of 1442\"</td>\n",
       "      <td>72.75</td>\n",
       "    </tr>\n",
       "    <tr>\n",
       "      <th>1</th>\n",
       "      <td>\"1 of 1021\"</td>\n",
       "      <td>\"2 of 1442\"</td>\n",
       "      <td>73.00</td>\n",
       "    </tr>\n",
       "    <tr>\n",
       "      <th>2</th>\n",
       "      <td>\"1 of 1021\"</td>\n",
       "      <td>\"3 of 1442\"</td>\n",
       "      <td>73.25</td>\n",
       "    </tr>\n",
       "    <tr>\n",
       "      <th>3</th>\n",
       "      <td>\"1 of 1021\"</td>\n",
       "      <td>\"4 of 1442\"</td>\n",
       "      <td>73.50</td>\n",
       "    </tr>\n",
       "    <tr>\n",
       "      <th>4</th>\n",
       "      <td>\"1 of 1021\"</td>\n",
       "      <td>\"5 of 1442\"</td>\n",
       "      <td>73.75</td>\n",
       "    </tr>\n",
       "  </tbody>\n",
       "</table>\n",
       "</div>"
      ],
      "text/plain": [
       "             y            x  nav_lon\n",
       "0  \"1 of 1021\"  \"1 of 1442\"    72.75\n",
       "1  \"1 of 1021\"  \"2 of 1442\"    73.00\n",
       "2  \"1 of 1021\"  \"3 of 1442\"    73.25\n",
       "3  \"1 of 1021\"  \"4 of 1442\"    73.50\n",
       "4  \"1 of 1021\"  \"5 of 1442\"    73.75"
      ]
     },
     "execution_count": 24,
     "metadata": {},
     "output_type": "execute_result"
    }
   ],
   "source": [
    "lon.head()"
   ]
  },
  {
   "cell_type": "code",
   "execution_count": 25,
   "id": "2c6c1168",
   "metadata": {},
   "outputs": [],
   "source": [
    "sosaline[\"latitude\"] = lat[\"nav_lat\"]\n",
    "sosaline[\"longitude\"] = lon[\"nav_lon\"]"
   ]
  },
  {
   "cell_type": "code",
   "execution_count": 26,
   "id": "25a4b106",
   "metadata": {},
   "outputs": [
    {
     "data": {
      "text/html": [
       "<div>\n",
       "<style scoped>\n",
       "    .dataframe tbody tr th:only-of-type {\n",
       "        vertical-align: middle;\n",
       "    }\n",
       "\n",
       "    .dataframe tbody tr th {\n",
       "        vertical-align: top;\n",
       "    }\n",
       "\n",
       "    .dataframe thead th {\n",
       "        text-align: right;\n",
       "    }\n",
       "</style>\n",
       "<table border=\"1\" class=\"dataframe\">\n",
       "  <thead>\n",
       "    <tr style=\"text-align: right;\">\n",
       "      <th></th>\n",
       "      <th>time_counter</th>\n",
       "      <th>y</th>\n",
       "      <th>x</th>\n",
       "      <th>sossheig</th>\n",
       "      <th>latitude</th>\n",
       "      <th>longitude</th>\n",
       "    </tr>\n",
       "  </thead>\n",
       "  <tbody>\n",
       "    <tr>\n",
       "      <th>0</th>\n",
       "      <td>6436800.0</td>\n",
       "      <td>\"1 of 1021\"</td>\n",
       "      <td>\"1 of 1442\"</td>\n",
       "      <td>NaN</td>\n",
       "      <td>-77.010475</td>\n",
       "      <td>72.75</td>\n",
       "    </tr>\n",
       "    <tr>\n",
       "      <th>1</th>\n",
       "      <td>6436800.0</td>\n",
       "      <td>\"1 of 1021\"</td>\n",
       "      <td>\"2 of 1442\"</td>\n",
       "      <td>NaN</td>\n",
       "      <td>-77.010475</td>\n",
       "      <td>73.00</td>\n",
       "    </tr>\n",
       "    <tr>\n",
       "      <th>2</th>\n",
       "      <td>6436800.0</td>\n",
       "      <td>\"1 of 1021\"</td>\n",
       "      <td>\"3 of 1442\"</td>\n",
       "      <td>NaN</td>\n",
       "      <td>-77.010475</td>\n",
       "      <td>73.25</td>\n",
       "    </tr>\n",
       "    <tr>\n",
       "      <th>3</th>\n",
       "      <td>6436800.0</td>\n",
       "      <td>\"1 of 1021\"</td>\n",
       "      <td>\"4 of 1442\"</td>\n",
       "      <td>NaN</td>\n",
       "      <td>-77.010475</td>\n",
       "      <td>73.50</td>\n",
       "    </tr>\n",
       "    <tr>\n",
       "      <th>4</th>\n",
       "      <td>6436800.0</td>\n",
       "      <td>\"1 of 1021\"</td>\n",
       "      <td>\"5 of 1442\"</td>\n",
       "      <td>NaN</td>\n",
       "      <td>-77.010475</td>\n",
       "      <td>73.75</td>\n",
       "    </tr>\n",
       "  </tbody>\n",
       "</table>\n",
       "</div>"
      ],
      "text/plain": [
       "   time_counter            y            x  sossheig   latitude  longitude\n",
       "0     6436800.0  \"1 of 1021\"  \"1 of 1442\"       NaN -77.010475      72.75\n",
       "1     6436800.0  \"1 of 1021\"  \"2 of 1442\"       NaN -77.010475      73.00\n",
       "2     6436800.0  \"1 of 1021\"  \"3 of 1442\"       NaN -77.010475      73.25\n",
       "3     6436800.0  \"1 of 1021\"  \"4 of 1442\"       NaN -77.010475      73.50\n",
       "4     6436800.0  \"1 of 1021\"  \"5 of 1442\"       NaN -77.010475      73.75"
      ]
     },
     "execution_count": 26,
     "metadata": {},
     "output_type": "execute_result"
    }
   ],
   "source": [
    "sosaline.head()"
   ]
  },
  {
   "cell_type": "code",
   "execution_count": 27,
   "id": "cb209448",
   "metadata": {},
   "outputs": [],
   "source": [
    "sosaline.drop([\"time_counter\",\"y\",\"x\"],axis=1,inplace=True)"
   ]
  },
  {
   "cell_type": "code",
   "execution_count": 28,
   "id": "93962f49",
   "metadata": {},
   "outputs": [
    {
     "data": {
      "text/html": [
       "<div>\n",
       "<style scoped>\n",
       "    .dataframe tbody tr th:only-of-type {\n",
       "        vertical-align: middle;\n",
       "    }\n",
       "\n",
       "    .dataframe tbody tr th {\n",
       "        vertical-align: top;\n",
       "    }\n",
       "\n",
       "    .dataframe thead th {\n",
       "        text-align: right;\n",
       "    }\n",
       "</style>\n",
       "<table border=\"1\" class=\"dataframe\">\n",
       "  <thead>\n",
       "    <tr style=\"text-align: right;\">\n",
       "      <th></th>\n",
       "      <th>sossheig</th>\n",
       "      <th>latitude</th>\n",
       "      <th>longitude</th>\n",
       "    </tr>\n",
       "  </thead>\n",
       "  <tbody>\n",
       "    <tr>\n",
       "      <th>0</th>\n",
       "      <td>NaN</td>\n",
       "      <td>-77.010475</td>\n",
       "      <td>72.75</td>\n",
       "    </tr>\n",
       "    <tr>\n",
       "      <th>1</th>\n",
       "      <td>NaN</td>\n",
       "      <td>-77.010475</td>\n",
       "      <td>73.00</td>\n",
       "    </tr>\n",
       "    <tr>\n",
       "      <th>2</th>\n",
       "      <td>NaN</td>\n",
       "      <td>-77.010475</td>\n",
       "      <td>73.25</td>\n",
       "    </tr>\n",
       "    <tr>\n",
       "      <th>3</th>\n",
       "      <td>NaN</td>\n",
       "      <td>-77.010475</td>\n",
       "      <td>73.50</td>\n",
       "    </tr>\n",
       "    <tr>\n",
       "      <th>4</th>\n",
       "      <td>NaN</td>\n",
       "      <td>-77.010475</td>\n",
       "      <td>73.75</td>\n",
       "    </tr>\n",
       "  </tbody>\n",
       "</table>\n",
       "</div>"
      ],
      "text/plain": [
       "   sossheig   latitude  longitude\n",
       "0       NaN -77.010475      72.75\n",
       "1       NaN -77.010475      73.00\n",
       "2       NaN -77.010475      73.25\n",
       "3       NaN -77.010475      73.50\n",
       "4       NaN -77.010475      73.75"
      ]
     },
     "execution_count": 28,
     "metadata": {},
     "output_type": "execute_result"
    }
   ],
   "source": [
    "sosaline.head()"
   ]
  },
  {
   "cell_type": "code",
   "execution_count": 29,
   "id": "5fc390b6",
   "metadata": {},
   "outputs": [],
   "source": [
    "sosaline.to_csv(\"sossheigh.csv\")"
   ]
  },
  {
   "cell_type": "code",
   "execution_count": null,
   "id": "c33a888f",
   "metadata": {},
   "outputs": [],
   "source": []
  }
 ],
 "metadata": {
  "kernelspec": {
   "display_name": "Python 3 (ipykernel)",
   "language": "python",
   "name": "python3"
  },
  "language_info": {
   "codemirror_mode": {
    "name": "ipython",
    "version": 3
   },
   "file_extension": ".py",
   "mimetype": "text/x-python",
   "name": "python",
   "nbconvert_exporter": "python",
   "pygments_lexer": "ipython3",
   "version": "3.9.13"
  }
 },
 "nbformat": 4,
 "nbformat_minor": 5
}
