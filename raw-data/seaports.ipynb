{
 "cells": [
  {
   "cell_type": "code",
   "execution_count": 1,
   "id": "cc44089e",
   "metadata": {},
   "outputs": [
    {
     "name": "stdout",
     "output_type": "stream",
     "text": [
      "   Seaport Name Seaport Code Country  Latitude  Longitude\n",
      "0        Adalia        TRAYT  Turkey    3652.0     3046.0\n",
      "1       Ambarli        TRAMB  Turkey    4058.0     2842.0\n",
      "2       Antalya        TRAYT  Turkey    3652.0     3046.0\n",
      "3        Bodrum        TRBOD  Turkey    3702.0     2727.0\n",
      "4        Budrum        TRBOD  Turkey    3702.0     2727.0\n",
      "..          ...          ...     ...       ...        ...\n",
      "65         Sudr        EGRSU   Egypt    2935.0     3241.0\n",
      "66         Suez        EGSUZ   Egypt    2958.0     3232.0\n",
      "67          Tor        EGTOR   Egypt    2814.0     3336.0\n",
      "68  Wadi Feiran        EGWAF   Egypt    2844.0     3312.0\n",
      "69     Zeit Bay        EGZEI   Egypt    2750.0     3336.0\n",
      "\n",
      "[70 rows x 5 columns]\n"
     ]
    }
   ],
   "source": [
    "import pandas as pd\n",
    "\n",
    "# txt dosyasını DataFrame'e yükleme\n",
    "df = pd.read_csv(\"seaports//seaports.txt\", delimiter=\"\\t\")\n",
    "\n",
    "# Latitude ve Longitude sütunlarındaki derece işaretlerini kaldırma ve ondalık sayıya çevirme\n",
    "df[\"Latitude\"] = df[\"Latitude\"].str.replace(\"°\", \"\").str.replace(\"'\", \"\").str.replace('\"', \"\").str.replace(\"N\", \"\").str.replace(\"S\", \"-\").astype(float)\n",
    "df[\"Longitude\"] = df[\"Longitude\"].str.replace(\"°\", \"\").str.replace(\"'\", \"\").str.replace('\"', \"\").str.replace(\"E\", \"\").str.replace(\"W\", \"-\").astype(float)\n",
    "\n",
    "# DataFrame'i gösterme\n",
    "print(df)"
   ]
  },
  {
   "cell_type": "code",
   "execution_count": 2,
   "id": "f31e1272",
   "metadata": {},
   "outputs": [],
   "source": [
    "df[\"Latitude\"] = df[\"Latitude\"]/100 \n",
    "df[\"Longitude\"] = df[\"Longitude\"]/100 "
   ]
  },
  {
   "cell_type": "code",
   "execution_count": 3,
   "id": "1913d8f1",
   "metadata": {},
   "outputs": [
    {
     "data": {
      "text/html": [
       "<div>\n",
       "<style scoped>\n",
       "    .dataframe tbody tr th:only-of-type {\n",
       "        vertical-align: middle;\n",
       "    }\n",
       "\n",
       "    .dataframe tbody tr th {\n",
       "        vertical-align: top;\n",
       "    }\n",
       "\n",
       "    .dataframe thead th {\n",
       "        text-align: right;\n",
       "    }\n",
       "</style>\n",
       "<table border=\"1\" class=\"dataframe\">\n",
       "  <thead>\n",
       "    <tr style=\"text-align: right;\">\n",
       "      <th></th>\n",
       "      <th>Seaport Name</th>\n",
       "      <th>Seaport Code</th>\n",
       "      <th>Country</th>\n",
       "      <th>Latitude</th>\n",
       "      <th>Longitude</th>\n",
       "    </tr>\n",
       "  </thead>\n",
       "  <tbody>\n",
       "    <tr>\n",
       "      <th>0</th>\n",
       "      <td>Adalia</td>\n",
       "      <td>TRAYT</td>\n",
       "      <td>Turkey</td>\n",
       "      <td>36.52</td>\n",
       "      <td>30.46</td>\n",
       "    </tr>\n",
       "    <tr>\n",
       "      <th>1</th>\n",
       "      <td>Ambarli</td>\n",
       "      <td>TRAMB</td>\n",
       "      <td>Turkey</td>\n",
       "      <td>40.58</td>\n",
       "      <td>28.42</td>\n",
       "    </tr>\n",
       "    <tr>\n",
       "      <th>2</th>\n",
       "      <td>Antalya</td>\n",
       "      <td>TRAYT</td>\n",
       "      <td>Turkey</td>\n",
       "      <td>36.52</td>\n",
       "      <td>30.46</td>\n",
       "    </tr>\n",
       "    <tr>\n",
       "      <th>3</th>\n",
       "      <td>Bodrum</td>\n",
       "      <td>TRBOD</td>\n",
       "      <td>Turkey</td>\n",
       "      <td>37.02</td>\n",
       "      <td>27.27</td>\n",
       "    </tr>\n",
       "    <tr>\n",
       "      <th>4</th>\n",
       "      <td>Budrum</td>\n",
       "      <td>TRBOD</td>\n",
       "      <td>Turkey</td>\n",
       "      <td>37.02</td>\n",
       "      <td>27.27</td>\n",
       "    </tr>\n",
       "  </tbody>\n",
       "</table>\n",
       "</div>"
      ],
      "text/plain": [
       "  Seaport Name Seaport Code Country  Latitude  Longitude\n",
       "0       Adalia        TRAYT  Turkey     36.52      30.46\n",
       "1      Ambarli        TRAMB  Turkey     40.58      28.42\n",
       "2      Antalya        TRAYT  Turkey     36.52      30.46\n",
       "3       Bodrum        TRBOD  Turkey     37.02      27.27\n",
       "4       Budrum        TRBOD  Turkey     37.02      27.27"
      ]
     },
     "execution_count": 3,
     "metadata": {},
     "output_type": "execute_result"
    }
   ],
   "source": [
    "df.head()"
   ]
  },
  {
   "cell_type": "code",
   "execution_count": 4,
   "id": "09552dbc",
   "metadata": {},
   "outputs": [],
   "source": [
    "df = df.drop(['Seaport Code',\"Seaport Name\"], axis=1)"
   ]
  },
  {
   "cell_type": "code",
   "execution_count": 5,
   "id": "a7647b4a",
   "metadata": {},
   "outputs": [
    {
     "data": {
      "text/html": [
       "<div>\n",
       "<style scoped>\n",
       "    .dataframe tbody tr th:only-of-type {\n",
       "        vertical-align: middle;\n",
       "    }\n",
       "\n",
       "    .dataframe tbody tr th {\n",
       "        vertical-align: top;\n",
       "    }\n",
       "\n",
       "    .dataframe thead th {\n",
       "        text-align: right;\n",
       "    }\n",
       "</style>\n",
       "<table border=\"1\" class=\"dataframe\">\n",
       "  <thead>\n",
       "    <tr style=\"text-align: right;\">\n",
       "      <th></th>\n",
       "      <th>Country</th>\n",
       "      <th>Latitude</th>\n",
       "      <th>Longitude</th>\n",
       "    </tr>\n",
       "  </thead>\n",
       "  <tbody>\n",
       "    <tr>\n",
       "      <th>0</th>\n",
       "      <td>Turkey</td>\n",
       "      <td>36.52</td>\n",
       "      <td>30.46</td>\n",
       "    </tr>\n",
       "    <tr>\n",
       "      <th>1</th>\n",
       "      <td>Turkey</td>\n",
       "      <td>40.58</td>\n",
       "      <td>28.42</td>\n",
       "    </tr>\n",
       "    <tr>\n",
       "      <th>2</th>\n",
       "      <td>Turkey</td>\n",
       "      <td>36.52</td>\n",
       "      <td>30.46</td>\n",
       "    </tr>\n",
       "    <tr>\n",
       "      <th>3</th>\n",
       "      <td>Turkey</td>\n",
       "      <td>37.02</td>\n",
       "      <td>27.27</td>\n",
       "    </tr>\n",
       "    <tr>\n",
       "      <th>4</th>\n",
       "      <td>Turkey</td>\n",
       "      <td>37.02</td>\n",
       "      <td>27.27</td>\n",
       "    </tr>\n",
       "  </tbody>\n",
       "</table>\n",
       "</div>"
      ],
      "text/plain": [
       "  Country  Latitude  Longitude\n",
       "0  Turkey     36.52      30.46\n",
       "1  Turkey     40.58      28.42\n",
       "2  Turkey     36.52      30.46\n",
       "3  Turkey     37.02      27.27\n",
       "4  Turkey     37.02      27.27"
      ]
     },
     "execution_count": 5,
     "metadata": {},
     "output_type": "execute_result"
    }
   ],
   "source": [
    "df.head()"
   ]
  },
  {
   "cell_type": "code",
   "execution_count": 6,
   "id": "2a997915",
   "metadata": {},
   "outputs": [],
   "source": [
    "df.to_csv(\"seaports.csv\")"
   ]
  },
  {
   "cell_type": "code",
   "execution_count": null,
   "id": "4d4b923b",
   "metadata": {},
   "outputs": [],
   "source": []
  }
 ],
 "metadata": {
  "kernelspec": {
   "display_name": "Python 3 (ipykernel)",
   "language": "python",
   "name": "python3"
  },
  "language_info": {
   "codemirror_mode": {
    "name": "ipython",
    "version": 3
   },
   "file_extension": ".py",
   "mimetype": "text/x-python",
   "name": "python",
   "nbconvert_exporter": "python",
   "pygments_lexer": "ipython3",
   "version": "3.9.13"
  }
 },
 "nbformat": 4,
 "nbformat_minor": 5
}
