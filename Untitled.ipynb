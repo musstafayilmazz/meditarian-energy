{
 "cells": [
  {
   "cell_type": "code",
   "execution_count": 33,
   "id": "64dabaed",
   "metadata": {},
   "outputs": [],
   "source": [
    "import pandas as pd\n",
    "import numpy as np\n",
    "from scipy.spatial.distance import cdist\n",
    "from scipy.stats import rankdata"
   ]
  },
  {
   "cell_type": "code",
   "execution_count": 37,
   "id": "a61ac397",
   "metadata": {},
   "outputs": [],
   "source": [
    "# load data\n",
    "my_data = pd.read_csv(\"data.csv\")\n",
    "\n",
    "data_coordinates = my_data[['latitude', 'longitude']]\n",
    "data_other = my_data.drop(['latitude', 'longitude'], axis=1)"
   ]
  },
  {
   "cell_type": "code",
   "execution_count": 38,
   "id": "13ac6275",
   "metadata": {},
   "outputs": [],
   "source": [
    "weights = np.array([0.343, 0.343, 0.382, 0.338, 0.294, 0.271, 0.250])"
   ]
  },
  {
   "cell_type": "code",
   "execution_count": 39,
   "id": "6ee2f0cd",
   "metadata": {},
   "outputs": [],
   "source": [
    "from sklearn.preprocessing import MinMaxScaler"
   ]
  },
  {
   "cell_type": "code",
   "execution_count": 40,
   "id": "c44b3d2c",
   "metadata": {},
   "outputs": [],
   "source": [
    "scaler = MinMaxScaler()"
   ]
  },
  {
   "cell_type": "code",
   "execution_count": 41,
   "id": "0acb0f1a",
   "metadata": {},
   "outputs": [],
   "source": [
    "data_scaled = scaler.fit_transform(data_other)"
   ]
  },
  {
   "cell_type": "code",
   "execution_count": 44,
   "id": "c35af94b",
   "metadata": {},
   "outputs": [],
   "source": [
    "weights = np.array([0.317, 0.317, 0.167, 0.093, 0.048, 0.034, 0.024])\n",
    "pairwise = np.array([[1, 1, 3, 5, 7, 8, 9],\n",
    "                     [1/1, 1, 3, 5, 7, 8, 9],\n",
    "                     [1/3, 1/3, 1, 3, 5, 6, 7],\n",
    "                     [1/5, 1/5, 1/3, 1, 3, 4, 5],\n",
    "                     [1/7, 1/7, 1/5, 1/3, 1, 2, 3],\n",
    "                     [1/8, 1/8, 1/6, 1/4, 1/2, 1, 2],\n",
    "                     [1/9, 1/9, 1/7, 1/5, 1/3, 1/2, 1]])"
   ]
  },
  {
   "cell_type": "code",
   "execution_count": 45,
   "id": "c3764f3d",
   "metadata": {},
   "outputs": [],
   "source": [
    "weighted_sums = np.sum(weights * data_norm ** 2, axis=1)\n",
    "weighted_dist = np.sqrt(weighted_sums)"
   ]
  },
  {
   "cell_type": "code",
   "execution_count": 46,
   "id": "797d88cd",
   "metadata": {},
   "outputs": [],
   "source": [
    "def pairwise_matrix(data, weights):\n",
    "    n = len(data)\n",
    "    pairwise = np.zeros((n, n))\n",
    "    for i in range(n):\n",
    "        for j in range(n):\n",
    "            if i == j:\n",
    "                pairwise[i][j] = 1\n",
    "            elif i < j:\n",
    "                pairwise[i][j] = np.sum((data.iloc[i] / data.iloc[j]) * weights)\n",
    "            else:\n",
    "                pairwise[i][j] = 1 / pairwise[j][i]\n",
    "    return pairwise"
   ]
  },
  {
   "cell_type": "code",
   "execution_count": 47,
   "id": "61d0a5b4",
   "metadata": {},
   "outputs": [
    {
     "ename": "AttributeError",
     "evalue": "'numpy.ndarray' object has no attribute 'iloc'",
     "output_type": "error",
     "traceback": [
      "\u001b[1;31m---------------------------------------------------------------------------\u001b[0m",
      "\u001b[1;31mAttributeError\u001b[0m                            Traceback (most recent call last)",
      "\u001b[1;32m~\\AppData\\Local\\Temp\\ipykernel_14396\\2558606750.py\u001b[0m in \u001b[0;36m<module>\u001b[1;34m\u001b[0m\n\u001b[1;32m----> 1\u001b[1;33m \u001b[0mpairwise_dist\u001b[0m \u001b[1;33m=\u001b[0m \u001b[0mpairwise_matrix\u001b[0m\u001b[1;33m(\u001b[0m\u001b[0mdata_scaled\u001b[0m\u001b[1;33m,\u001b[0m \u001b[0mpairwise\u001b[0m\u001b[1;33m)\u001b[0m\u001b[1;33m\u001b[0m\u001b[1;33m\u001b[0m\u001b[0m\n\u001b[0m",
      "\u001b[1;32m~\\AppData\\Local\\Temp\\ipykernel_14396\\1225772382.py\u001b[0m in \u001b[0;36mpairwise_matrix\u001b[1;34m(data, weights)\u001b[0m\n\u001b[0;32m      7\u001b[0m                 \u001b[0mpairwise\u001b[0m\u001b[1;33m[\u001b[0m\u001b[0mi\u001b[0m\u001b[1;33m]\u001b[0m\u001b[1;33m[\u001b[0m\u001b[0mj\u001b[0m\u001b[1;33m]\u001b[0m \u001b[1;33m=\u001b[0m \u001b[1;36m1\u001b[0m\u001b[1;33m\u001b[0m\u001b[1;33m\u001b[0m\u001b[0m\n\u001b[0;32m      8\u001b[0m             \u001b[1;32melif\u001b[0m \u001b[0mi\u001b[0m \u001b[1;33m<\u001b[0m \u001b[0mj\u001b[0m\u001b[1;33m:\u001b[0m\u001b[1;33m\u001b[0m\u001b[1;33m\u001b[0m\u001b[0m\n\u001b[1;32m----> 9\u001b[1;33m                 \u001b[0mpairwise\u001b[0m\u001b[1;33m[\u001b[0m\u001b[0mi\u001b[0m\u001b[1;33m]\u001b[0m\u001b[1;33m[\u001b[0m\u001b[0mj\u001b[0m\u001b[1;33m]\u001b[0m \u001b[1;33m=\u001b[0m \u001b[0mnp\u001b[0m\u001b[1;33m.\u001b[0m\u001b[0msum\u001b[0m\u001b[1;33m(\u001b[0m\u001b[1;33m(\u001b[0m\u001b[0mdata\u001b[0m\u001b[1;33m.\u001b[0m\u001b[0miloc\u001b[0m\u001b[1;33m[\u001b[0m\u001b[0mi\u001b[0m\u001b[1;33m]\u001b[0m \u001b[1;33m/\u001b[0m \u001b[0mdata\u001b[0m\u001b[1;33m.\u001b[0m\u001b[0miloc\u001b[0m\u001b[1;33m[\u001b[0m\u001b[0mj\u001b[0m\u001b[1;33m]\u001b[0m\u001b[1;33m)\u001b[0m \u001b[1;33m*\u001b[0m \u001b[0mweights\u001b[0m\u001b[1;33m)\u001b[0m\u001b[1;33m\u001b[0m\u001b[1;33m\u001b[0m\u001b[0m\n\u001b[0m\u001b[0;32m     10\u001b[0m             \u001b[1;32melse\u001b[0m\u001b[1;33m:\u001b[0m\u001b[1;33m\u001b[0m\u001b[1;33m\u001b[0m\u001b[0m\n\u001b[0;32m     11\u001b[0m                 \u001b[0mpairwise\u001b[0m\u001b[1;33m[\u001b[0m\u001b[0mi\u001b[0m\u001b[1;33m]\u001b[0m\u001b[1;33m[\u001b[0m\u001b[0mj\u001b[0m\u001b[1;33m]\u001b[0m \u001b[1;33m=\u001b[0m \u001b[1;36m1\u001b[0m \u001b[1;33m/\u001b[0m \u001b[0mpairwise\u001b[0m\u001b[1;33m[\u001b[0m\u001b[0mj\u001b[0m\u001b[1;33m]\u001b[0m\u001b[1;33m[\u001b[0m\u001b[0mi\u001b[0m\u001b[1;33m]\u001b[0m\u001b[1;33m\u001b[0m\u001b[1;33m\u001b[0m\u001b[0m\n",
      "\u001b[1;31mAttributeError\u001b[0m: 'numpy.ndarray' object has no attribute 'iloc'"
     ]
    }
   ],
   "source": [
    "pairwise_dist = pairwise_matrix(data_scaled, pairwise)"
   ]
  },
  {
   "cell_type": "code",
   "execution_count": null,
   "id": "c9868060",
   "metadata": {},
   "outputs": [],
   "source": []
  }
 ],
 "metadata": {
  "kernelspec": {
   "display_name": "Python 3 (ipykernel)",
   "language": "python",
   "name": "python3"
  },
  "language_info": {
   "codemirror_mode": {
    "name": "ipython",
    "version": 3
   },
   "file_extension": ".py",
   "mimetype": "text/x-python",
   "name": "python",
   "nbconvert_exporter": "python",
   "pygments_lexer": "ipython3",
   "version": "3.9.13"
  }
 },
 "nbformat": 4,
 "nbformat_minor": 5
}
